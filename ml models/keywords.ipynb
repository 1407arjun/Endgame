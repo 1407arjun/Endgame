{
  "nbformat": 4,
  "nbformat_minor": 0,
  "metadata": {
    "colab": {
      "name": "keywords.ipynb",
      "provenance": [],
      "include_colab_link": true
    },
    "kernelspec": {
      "name": "python3",
      "display_name": "Python 3"
    },
    "language_info": {
      "name": "python"
    },
    "widgets": {
      "application/vnd.jupyter.widget-state+json": {
        "69eba320bd074a1e9b968db6f489ec2a": {
          "model_module": "@jupyter-widgets/controls",
          "model_name": "HBoxModel",
          "state": {
            "_view_name": "HBoxView",
            "_dom_classes": [],
            "_model_name": "HBoxModel",
            "_view_module": "@jupyter-widgets/controls",
            "_model_module_version": "1.5.0",
            "_view_count": null,
            "_view_module_version": "1.5.0",
            "box_style": "",
            "layout": "IPY_MODEL_a560f89f948e4f1b88fde67dd94badfe",
            "_model_module": "@jupyter-widgets/controls",
            "children": [
              "IPY_MODEL_52fa00fb607c48019d72d5564b99b7f0",
              "IPY_MODEL_a1837ad1b014415395b3a2838b8608dc"
            ]
          }
        },
        "a560f89f948e4f1b88fde67dd94badfe": {
          "model_module": "@jupyter-widgets/base",
          "model_name": "LayoutModel",
          "state": {
            "_view_name": "LayoutView",
            "grid_template_rows": null,
            "right": null,
            "justify_content": null,
            "_view_module": "@jupyter-widgets/base",
            "overflow": null,
            "_model_module_version": "1.2.0",
            "_view_count": null,
            "flex_flow": null,
            "width": null,
            "min_width": null,
            "border": null,
            "align_items": null,
            "bottom": null,
            "_model_module": "@jupyter-widgets/base",
            "top": null,
            "grid_column": null,
            "overflow_y": null,
            "overflow_x": null,
            "grid_auto_flow": null,
            "grid_area": null,
            "grid_template_columns": null,
            "flex": null,
            "_model_name": "LayoutModel",
            "justify_items": null,
            "grid_row": null,
            "max_height": null,
            "align_content": null,
            "visibility": null,
            "align_self": null,
            "height": null,
            "min_height": null,
            "padding": null,
            "grid_auto_rows": null,
            "grid_gap": null,
            "max_width": null,
            "order": null,
            "_view_module_version": "1.2.0",
            "grid_template_areas": null,
            "object_position": null,
            "object_fit": null,
            "grid_auto_columns": null,
            "margin": null,
            "display": null,
            "left": null
          }
        },
        "52fa00fb607c48019d72d5564b99b7f0": {
          "model_module": "@jupyter-widgets/controls",
          "model_name": "FloatProgressModel",
          "state": {
            "_view_name": "ProgressView",
            "style": "IPY_MODEL_dad199c1f6b145f3bab1d41f89f20d57",
            "_dom_classes": [],
            "description": "100%",
            "_model_name": "FloatProgressModel",
            "bar_style": "success",
            "max": 244733649,
            "_view_module": "@jupyter-widgets/controls",
            "_model_module_version": "1.5.0",
            "value": 244733649,
            "_view_count": null,
            "_view_module_version": "1.5.0",
            "orientation": "horizontal",
            "min": 0,
            "description_tooltip": null,
            "_model_module": "@jupyter-widgets/controls",
            "layout": "IPY_MODEL_8a0f8209b2a84a639fb356a7f08a46de"
          }
        },
        "a1837ad1b014415395b3a2838b8608dc": {
          "model_module": "@jupyter-widgets/controls",
          "model_name": "HTMLModel",
          "state": {
            "_view_name": "HTMLView",
            "style": "IPY_MODEL_e58968b5170d4021b1e65e5065effa61",
            "_dom_classes": [],
            "description": "",
            "_model_name": "HTMLModel",
            "placeholder": "​",
            "_view_module": "@jupyter-widgets/controls",
            "_model_module_version": "1.5.0",
            "value": " 245M/245M [00:36&lt;00:00, 6.65MB/s]",
            "_view_count": null,
            "_view_module_version": "1.5.0",
            "description_tooltip": null,
            "_model_module": "@jupyter-widgets/controls",
            "layout": "IPY_MODEL_b9359fcf563f4249b84e78aa021aba06"
          }
        },
        "dad199c1f6b145f3bab1d41f89f20d57": {
          "model_module": "@jupyter-widgets/controls",
          "model_name": "ProgressStyleModel",
          "state": {
            "_view_name": "StyleView",
            "_model_name": "ProgressStyleModel",
            "description_width": "initial",
            "_view_module": "@jupyter-widgets/base",
            "_model_module_version": "1.5.0",
            "_view_count": null,
            "_view_module_version": "1.2.0",
            "bar_color": null,
            "_model_module": "@jupyter-widgets/controls"
          }
        },
        "8a0f8209b2a84a639fb356a7f08a46de": {
          "model_module": "@jupyter-widgets/base",
          "model_name": "LayoutModel",
          "state": {
            "_view_name": "LayoutView",
            "grid_template_rows": null,
            "right": null,
            "justify_content": null,
            "_view_module": "@jupyter-widgets/base",
            "overflow": null,
            "_model_module_version": "1.2.0",
            "_view_count": null,
            "flex_flow": null,
            "width": null,
            "min_width": null,
            "border": null,
            "align_items": null,
            "bottom": null,
            "_model_module": "@jupyter-widgets/base",
            "top": null,
            "grid_column": null,
            "overflow_y": null,
            "overflow_x": null,
            "grid_auto_flow": null,
            "grid_area": null,
            "grid_template_columns": null,
            "flex": null,
            "_model_name": "LayoutModel",
            "justify_items": null,
            "grid_row": null,
            "max_height": null,
            "align_content": null,
            "visibility": null,
            "align_self": null,
            "height": null,
            "min_height": null,
            "padding": null,
            "grid_auto_rows": null,
            "grid_gap": null,
            "max_width": null,
            "order": null,
            "_view_module_version": "1.2.0",
            "grid_template_areas": null,
            "object_position": null,
            "object_fit": null,
            "grid_auto_columns": null,
            "margin": null,
            "display": null,
            "left": null
          }
        },
        "e58968b5170d4021b1e65e5065effa61": {
          "model_module": "@jupyter-widgets/controls",
          "model_name": "DescriptionStyleModel",
          "state": {
            "_view_name": "StyleView",
            "_model_name": "DescriptionStyleModel",
            "description_width": "",
            "_view_module": "@jupyter-widgets/base",
            "_model_module_version": "1.5.0",
            "_view_count": null,
            "_view_module_version": "1.2.0",
            "_model_module": "@jupyter-widgets/controls"
          }
        },
        "b9359fcf563f4249b84e78aa021aba06": {
          "model_module": "@jupyter-widgets/base",
          "model_name": "LayoutModel",
          "state": {
            "_view_name": "LayoutView",
            "grid_template_rows": null,
            "right": null,
            "justify_content": null,
            "_view_module": "@jupyter-widgets/base",
            "overflow": null,
            "_model_module_version": "1.2.0",
            "_view_count": null,
            "flex_flow": null,
            "width": null,
            "min_width": null,
            "border": null,
            "align_items": null,
            "bottom": null,
            "_model_module": "@jupyter-widgets/base",
            "top": null,
            "grid_column": null,
            "overflow_y": null,
            "overflow_x": null,
            "grid_auto_flow": null,
            "grid_area": null,
            "grid_template_columns": null,
            "flex": null,
            "_model_name": "LayoutModel",
            "justify_items": null,
            "grid_row": null,
            "max_height": null,
            "align_content": null,
            "visibility": null,
            "align_self": null,
            "height": null,
            "min_height": null,
            "padding": null,
            "grid_auto_rows": null,
            "grid_gap": null,
            "max_width": null,
            "order": null,
            "_view_module_version": "1.2.0",
            "grid_template_areas": null,
            "object_position": null,
            "object_fit": null,
            "grid_auto_columns": null,
            "margin": null,
            "display": null,
            "left": null
          }
        }
      }
    }
  },
  "cells": [
    {
      "cell_type": "markdown",
      "metadata": {
        "id": "view-in-github",
        "colab_type": "text"
      },
      "source": [
        "<a href=\"https://colab.research.google.com/github/1407arjun/Endgame/blob/master/ml%20models/keywords.ipynb\" target=\"_parent\"><img src=\"https://colab.research.google.com/assets/colab-badge.svg\" alt=\"Open In Colab\"/></a>"
      ]
    },
    {
      "cell_type": "code",
      "metadata": {
        "id": "Gev_Ilg_lj42",
        "colab": {
          "base_uri": "https://localhost:8080/"
        },
        "outputId": "0a8d4f0c-6430-427a-f3ba-8bbebf0442aa"
      },
      "source": [
        "!pip install flask-ngrok\n",
        "!pip install sentence-transformers\n",
        "!pip install summarizer"
      ],
      "execution_count": null,
      "outputs": [
        {
          "output_type": "stream",
          "text": [
            "Collecting flask-ngrok\n",
            "  Downloading https://files.pythonhosted.org/packages/af/6c/f54cb686ad1129e27d125d182f90f52b32f284e6c8df58c1bae54fa1adbc/flask_ngrok-0.0.25-py3-none-any.whl\n",
            "Requirement already satisfied: requests in /usr/local/lib/python3.7/dist-packages (from flask-ngrok) (2.23.0)\n",
            "Requirement already satisfied: Flask>=0.8 in /usr/local/lib/python3.7/dist-packages (from flask-ngrok) (1.1.2)\n",
            "Requirement already satisfied: urllib3!=1.25.0,!=1.25.1,<1.26,>=1.21.1 in /usr/local/lib/python3.7/dist-packages (from requests->flask-ngrok) (1.24.3)\n",
            "Requirement already satisfied: idna<3,>=2.5 in /usr/local/lib/python3.7/dist-packages (from requests->flask-ngrok) (2.10)\n",
            "Requirement already satisfied: certifi>=2017.4.17 in /usr/local/lib/python3.7/dist-packages (from requests->flask-ngrok) (2020.12.5)\n",
            "Requirement already satisfied: chardet<4,>=3.0.2 in /usr/local/lib/python3.7/dist-packages (from requests->flask-ngrok) (3.0.4)\n",
            "Requirement already satisfied: Jinja2>=2.10.1 in /usr/local/lib/python3.7/dist-packages (from Flask>=0.8->flask-ngrok) (2.11.3)\n",
            "Requirement already satisfied: click>=5.1 in /usr/local/lib/python3.7/dist-packages (from Flask>=0.8->flask-ngrok) (7.1.2)\n",
            "Requirement already satisfied: itsdangerous>=0.24 in /usr/local/lib/python3.7/dist-packages (from Flask>=0.8->flask-ngrok) (1.1.0)\n",
            "Requirement already satisfied: Werkzeug>=0.15 in /usr/local/lib/python3.7/dist-packages (from Flask>=0.8->flask-ngrok) (1.0.1)\n",
            "Requirement already satisfied: MarkupSafe>=0.23 in /usr/local/lib/python3.7/dist-packages (from Jinja2>=2.10.1->Flask>=0.8->flask-ngrok) (1.1.1)\n",
            "Installing collected packages: flask-ngrok\n",
            "Successfully installed flask-ngrok-0.0.25\n",
            "Collecting sentence-transformers\n",
            "\u001b[?25l  Downloading https://files.pythonhosted.org/packages/c4/87/49dc49e13ac107ce912c2f3f3fd92252c6d4221e88d1e6c16747044a11d8/sentence-transformers-1.1.0.tar.gz (78kB)\n",
            "\u001b[K     |████████████████████████████████| 81kB 3.4MB/s \n",
            "\u001b[?25hCollecting transformers<5.0.0,>=3.1.0\n",
            "\u001b[?25l  Downloading https://files.pythonhosted.org/packages/d8/b2/57495b5309f09fa501866e225c84532d1fd89536ea62406b2181933fb418/transformers-4.5.1-py3-none-any.whl (2.1MB)\n",
            "\u001b[K     |████████████████████████████████| 2.1MB 12.5MB/s \n",
            "\u001b[?25hRequirement already satisfied: tqdm in /usr/local/lib/python3.7/dist-packages (from sentence-transformers) (4.41.1)\n",
            "Requirement already satisfied: torch>=1.6.0 in /usr/local/lib/python3.7/dist-packages (from sentence-transformers) (1.8.1+cu101)\n",
            "Requirement already satisfied: numpy in /usr/local/lib/python3.7/dist-packages (from sentence-transformers) (1.19.5)\n",
            "Requirement already satisfied: scikit-learn in /usr/local/lib/python3.7/dist-packages (from sentence-transformers) (0.22.2.post1)\n",
            "Requirement already satisfied: scipy in /usr/local/lib/python3.7/dist-packages (from sentence-transformers) (1.4.1)\n",
            "Requirement already satisfied: nltk in /usr/local/lib/python3.7/dist-packages (from sentence-transformers) (3.2.5)\n",
            "Collecting sentencepiece\n",
            "\u001b[?25l  Downloading https://files.pythonhosted.org/packages/f5/99/e0808cb947ba10f575839c43e8fafc9cc44e4a7a2c8f79c60db48220a577/sentencepiece-0.1.95-cp37-cp37m-manylinux2014_x86_64.whl (1.2MB)\n",
            "\u001b[K     |████████████████████████████████| 1.2MB 39.4MB/s \n",
            "\u001b[?25hCollecting tokenizers<0.11,>=0.10.1\n",
            "\u001b[?25l  Downloading https://files.pythonhosted.org/packages/ae/04/5b870f26a858552025a62f1649c20d29d2672c02ff3c3fb4c688ca46467a/tokenizers-0.10.2-cp37-cp37m-manylinux2010_x86_64.whl (3.3MB)\n",
            "\u001b[K     |████████████████████████████████| 3.3MB 48.1MB/s \n",
            "\u001b[?25hCollecting sacremoses\n",
            "\u001b[?25l  Downloading https://files.pythonhosted.org/packages/75/ee/67241dc87f266093c533a2d4d3d69438e57d7a90abb216fa076e7d475d4a/sacremoses-0.0.45-py3-none-any.whl (895kB)\n",
            "\u001b[K     |████████████████████████████████| 901kB 43.2MB/s \n",
            "\u001b[?25hRequirement already satisfied: regex!=2019.12.17 in /usr/local/lib/python3.7/dist-packages (from transformers<5.0.0,>=3.1.0->sentence-transformers) (2019.12.20)\n",
            "Requirement already satisfied: filelock in /usr/local/lib/python3.7/dist-packages (from transformers<5.0.0,>=3.1.0->sentence-transformers) (3.0.12)\n",
            "Requirement already satisfied: packaging in /usr/local/lib/python3.7/dist-packages (from transformers<5.0.0,>=3.1.0->sentence-transformers) (20.9)\n",
            "Requirement already satisfied: importlib-metadata; python_version < \"3.8\" in /usr/local/lib/python3.7/dist-packages (from transformers<5.0.0,>=3.1.0->sentence-transformers) (3.10.1)\n",
            "Requirement already satisfied: requests in /usr/local/lib/python3.7/dist-packages (from transformers<5.0.0,>=3.1.0->sentence-transformers) (2.23.0)\n",
            "Requirement already satisfied: typing-extensions in /usr/local/lib/python3.7/dist-packages (from torch>=1.6.0->sentence-transformers) (3.7.4.3)\n",
            "Requirement already satisfied: joblib>=0.11 in /usr/local/lib/python3.7/dist-packages (from scikit-learn->sentence-transformers) (1.0.1)\n",
            "Requirement already satisfied: six in /usr/local/lib/python3.7/dist-packages (from nltk->sentence-transformers) (1.15.0)\n",
            "Requirement already satisfied: click in /usr/local/lib/python3.7/dist-packages (from sacremoses->transformers<5.0.0,>=3.1.0->sentence-transformers) (7.1.2)\n",
            "Requirement already satisfied: pyparsing>=2.0.2 in /usr/local/lib/python3.7/dist-packages (from packaging->transformers<5.0.0,>=3.1.0->sentence-transformers) (2.4.7)\n",
            "Requirement already satisfied: zipp>=0.5 in /usr/local/lib/python3.7/dist-packages (from importlib-metadata; python_version < \"3.8\"->transformers<5.0.0,>=3.1.0->sentence-transformers) (3.4.1)\n",
            "Requirement already satisfied: certifi>=2017.4.17 in /usr/local/lib/python3.7/dist-packages (from requests->transformers<5.0.0,>=3.1.0->sentence-transformers) (2020.12.5)\n",
            "Requirement already satisfied: urllib3!=1.25.0,!=1.25.1,<1.26,>=1.21.1 in /usr/local/lib/python3.7/dist-packages (from requests->transformers<5.0.0,>=3.1.0->sentence-transformers) (1.24.3)\n",
            "Requirement already satisfied: chardet<4,>=3.0.2 in /usr/local/lib/python3.7/dist-packages (from requests->transformers<5.0.0,>=3.1.0->sentence-transformers) (3.0.4)\n",
            "Requirement already satisfied: idna<3,>=2.5 in /usr/local/lib/python3.7/dist-packages (from requests->transformers<5.0.0,>=3.1.0->sentence-transformers) (2.10)\n",
            "Building wheels for collected packages: sentence-transformers\n",
            "  Building wheel for sentence-transformers (setup.py) ... \u001b[?25l\u001b[?25hdone\n",
            "  Created wheel for sentence-transformers: filename=sentence_transformers-1.1.0-cp37-none-any.whl size=119615 sha256=f2706327ed2fa70d6137fcd5d5c9b534fcba03fdbe3fcbb58eea6bf060657dd9\n",
            "  Stored in directory: /root/.cache/pip/wheels/84/cb/21/1066bff3027215c760ca14a198f698bca8fccb92e33e2327eb\n",
            "Successfully built sentence-transformers\n",
            "Installing collected packages: tokenizers, sacremoses, transformers, sentencepiece, sentence-transformers\n",
            "Successfully installed sacremoses-0.0.45 sentence-transformers-1.1.0 sentencepiece-0.1.95 tokenizers-0.10.2 transformers-4.5.1\n",
            "Collecting summarizer\n",
            "\u001b[?25l  Downloading https://files.pythonhosted.org/packages/de/ca/5f5934b4421e928cac8f916e358310486d6e940b52dacc3857b60ba88634/summarizer-0.0.7.tar.gz (280kB)\n",
            "\u001b[K     |████████████████████████████████| 286kB 4.1MB/s \n",
            "\u001b[?25hRequirement already satisfied: nltk in /usr/local/lib/python3.7/dist-packages (from summarizer) (3.2.5)\n",
            "Requirement already satisfied: six in /usr/local/lib/python3.7/dist-packages (from nltk->summarizer) (1.15.0)\n",
            "Building wheels for collected packages: summarizer\n",
            "  Building wheel for summarizer (setup.py) ... \u001b[?25l\u001b[?25hdone\n",
            "  Created wheel for summarizer: filename=summarizer-0.0.7-py2.py3-none-any.whl size=284245 sha256=295a84eab246d546dd53295b856ac0bb9a3e00c2e8ad0346127c61535c750cb9\n",
            "  Stored in directory: /root/.cache/pip/wheels/fe/70/61/d662b47a64cd8cd14cf2a0477df1e2ca6dbdd1f9345202fe74\n",
            "Successfully built summarizer\n",
            "Installing collected packages: summarizer\n",
            "Successfully installed summarizer-0.0.7\n"
          ],
          "name": "stdout"
        }
      ]
    },
    {
      "cell_type": "code",
      "metadata": {
        "colab": {
          "base_uri": "https://localhost:8080/",
          "height": 573,
          "referenced_widgets": [
            "69eba320bd074a1e9b968db6f489ec2a",
            "a560f89f948e4f1b88fde67dd94badfe",
            "52fa00fb607c48019d72d5564b99b7f0",
            "a1837ad1b014415395b3a2838b8608dc",
            "dad199c1f6b145f3bab1d41f89f20d57",
            "8a0f8209b2a84a639fb356a7f08a46de",
            "e58968b5170d4021b1e65e5065effa61",
            "b9359fcf563f4249b84e78aa021aba06"
          ]
        },
        "id": "7cEG9jcclRKu",
        "outputId": "f62a67d3-ac88-4e13-8476-0620ac13396e"
      },
      "source": [
        "from flask import jsonify, request, Flask\n",
        "from flask_ngrok import run_with_ngrok\n",
        "from sklearn.feature_extraction.text import CountVectorizer\n",
        "from sentence_transformers import SentenceTransformer\n",
        "from sklearn.metrics.pairwise import cosine_similarity\n",
        "from summarizer import Summarizer\n",
        "\n",
        "app = Flask(__name__)\n",
        "run_with_ngrok(app)\n",
        "\n",
        "\n",
        "@app.route('/<string:q_id>', methods=['GET'])\n",
        "def home(q_id):\n",
        "    WordLimiterPhrase = (1, 1)\n",
        "    stop_words = \"english\"\n",
        "    count = CountVectorizer(ngram_range=WordLimiterPhrase, stop_words=stop_words).fit([q_id])\n",
        "    initialSet = count.get_feature_names()\n",
        "    \n",
        "    model = SentenceTransformer('distilbert-base-nli-mean-tokens')\n",
        "    doc_embedding = model.encode([q_id])\n",
        "    words_embeddings = model.encode(initialSet)\n",
        "    top_n = 5\n",
        "    distances = cosine_similarity(doc_embedding, words_embeddings)\n",
        "    keywords = [initialSet[index] for index in distances.argsort()[0][-top_n:]]\n",
        "    return jsonify(keywords)\n",
        "    \n",
        "\n",
        "if __name__ == '__main__':\n",
        "    app.run()"
      ],
      "execution_count": null,
      "outputs": [
        {
          "output_type": "stream",
          "text": [
            " * Serving Flask app \"__main__\" (lazy loading)\n",
            " * Environment: production\n",
            "\u001b[31m   WARNING: This is a development server. Do not use it in a production deployment.\u001b[0m\n",
            "\u001b[2m   Use a production WSGI server instead.\u001b[0m\n",
            " * Debug mode: off\n"
          ],
          "name": "stdout"
        },
        {
          "output_type": "stream",
          "text": [
            " * Running on http://127.0.0.1:5000/ (Press CTRL+C to quit)\n"
          ],
          "name": "stderr"
        },
        {
          "output_type": "stream",
          "text": [
            " * Running on http://0a96440fb31d.ngrok.io\n",
            " * Traffic stats available on http://127.0.0.1:4040\n"
          ],
          "name": "stdout"
        },
        {
          "output_type": "display_data",
          "data": {
            "application/vnd.jupyter.widget-view+json": {
              "model_id": "69eba320bd074a1e9b968db6f489ec2a",
              "version_major": 2,
              "version_minor": 0
            },
            "text/plain": [
              "HBox(children=(FloatProgress(value=0.0, max=244733649.0), HTML(value='')))"
            ]
          },
          "metadata": {
            "tags": []
          }
        },
        {
          "output_type": "stream",
          "text": [
            "\n"
          ],
          "name": "stdout"
        },
        {
          "output_type": "stream",
          "text": [
            "127.0.0.1 - - [02/May/2021 07:12:45] \"\u001b[37mGET /You%27re+presenting+to+everyone%0AStop+presenting HTTP/1.1\u001b[0m\" 200 -\n",
            "127.0.0.1 - - [02/May/2021 07:14:18] \"\u001b[37mGET /You%27re+presenting+to+everyone%0AYo%0AStop+presenting9%0AJashjas HTTP/1.1\u001b[0m\" 200 -\n",
            "127.0.0.1 - - [02/May/2021 07:15:51] \"\u001b[37mGET /You%27re+presenting+to+everyone%0AYo%0AStop+presenting9%0AJashjas HTTP/1.1\u001b[0m\" 200 -\n",
            "127.0.0.1 - - [02/May/2021 07:24:25] \"\u001b[37mGET /Thermodynamics%0AFrom+Wikipedia%2C+the+free+encycdopedia%0AThermodynamics+is+a+branch+of+physics+that+deals+with+heat%2C+work%2C+and+temperature%2C+and+their+relation+to+energy%2C+radiation%2C+and%0Aphysical+properties+of+matter.+The+behavior+of+these+quantities+is+governed+by+the+four+laws+of+thermodynamics+which+convey+a%0Aquantitative+description+using+measurable+macroscopic+physical+quantities%2C+but+may+be+explained+in+terms+of+microscopic%0Aconstituents+by+statistical+mechanics.+Thermodynamics+applies+to+a+wide+variety+of+topics+in+science+and+engineering%2C+especially%0Aphysical+chemistrv+bioche HTTP/1.1\u001b[0m\" 200 -\n",
            "127.0.0.1 - - [02/May/2021 07:35:50] \"\u001b[37mGET /Tanmay+Vyas+12%3A34+PM%0AOn+March+22%2C+1622%2C+Powhatan+Indians+attacked%0Aand+killed+colonists+in+eastern+Virginia.+Known+as%0Athe+Jamestown+Massacre%2C+the+bloodbath+gave+the%0AEnglish+government+an+excuse+to+justify+their%0Aefforts+to+attack+Indians+and+confiscate+their+land.%0AIn+1636%2C+the+Pequot+War+over+trade+expansion%0Abroke+out+between+Pequot+Indians+and+English%0Asettlers+of+Massachusetts+Bay+and+Connecticut.%0AE%0AThe+colonists+Indian+allies+joined+them+in+battle%0Aand+helped+defeat+the+Pequot%0AA+series+of+battles+took+place+from+16 HTTP/1.1\u001b[0m\" 200 -\n",
            "127.0.0.1 - - [02/May/2021 07:38:30] \"\u001b[33mGET /Tanmay+Vyas+12%3A34+PM%0AOn+March+22%2C+1622%2C+Powhatan+Indians+attacked%0Aand+killed+colonists+in+eastern+Virginia.+Known+as%0Athe+Jamestown+Massacre%2C+the+bloodbath+gave+the%0AEnglish+government+an+excuse+to+justify+their%0Aefforts+to+attack+Indians+and+confiscate+their+land.%0AIn+1636%2C+the+Pequot+War+over+trade+expansion%0Abroke+out+between+Pequot+indians+and+English%0Asettlers+of+Massachusetts+Bay+and+Connecticut%0AThe+colonists%27+Indian+allies+joined+them+in+battle%0Aand+helped+defeat+the+Pequot%0AA+series+of+battles+took+place+from+16%0Ahttps%2F%2Fwww.history.com%2Ftopics%2Fnative-america%0Avone HTTP/1.1\u001b[0m\" 404 -\n",
            "127.0.0.1 - - [02/May/2021 07:43:29] \"\u001b[37mGET /Tanmay+Vyas+12%3A34PM%0AOn+March+22%2C+1622%2C+Powhatan+Indians+attacked%0Aand+killed+colonists+in+eastern+Virginia.+Known+as%0Athe+Jamestown+Massacre%2C+the+bloodbath+gave+the%0AEnglish+government+an+excuse+to+justify+thei%0Aefforts+to+attack%0Aians+and+confiscate+their+land%0A636+the+Requot+War+over+trade+expansion%0Abrake%0Aians+and+English%0Assachusetts+Bay+and+Connecticut%0Aallie%0Aea%0Aoined+them+in+battle%0Aand+helpe%0AAserles+of+battles+took+place+from+16%0Aww.historv.icom.tonicainativean HTTP/1.1\u001b[0m\" 200 -\n",
            "127.0.0.1 - - [02/May/2021 07:44:45] \"\u001b[37mGET /Tanmay+Vyas+12%3A34PM%0AOn+March+22%2C+1622%2C+Powhatan+Indians+attacked%0Aand+killed+colonists+in+eastern+Virginia.+Known+as%0Athe+Jamestown+Massacre%2C+the+bloodbath+gave+the%0AEnglish+government+an+excuse+to+justify+thei%0Aefforts+to+attack%0Aians+and+confiscate+their+land%0A636+the+Requot+War+over+trade+expansion%0Abrake%0Aians+and+English%0Assachusetts+Bay+and+Connecticut%0Aallie%0Aea%0Aoined+them+in+battle%0Aand+helpe%0AAserles+of+battles+took+place+from+16%0Aww.historv.icom.tonicainativean HTTP/1.1\u001b[0m\" 200 -\n",
            "127.0.0.1 - - [02/May/2021 07:45:31] \"\u001b[33mGET /Tanmay+Vyas+12%3A34+PM%0AOn+March+22%2C+1622%2C+Powhatan+Indians+attacked%0Aand+killed+colonists+in+eastern+Virginia.+Known+as%0Athe+Jamestown+Massacre%2C+the+bloodbath+gave+the%0AEnglish+government+an+excuse+to+justify+their%0Aefforts+to+attack+lndians+and+confiscate+their+land.%0AIn+1636%2C+the+Pequot+War+over+trade+expansion%0Abroke+out+between+Pequot+Indians+and+English%0Asettlers+of+Massachusetts+Bay+and+Connecticut%0AThe+colonists+Indian+allies+joined+them+in+battle%0Aand+helped+defeat+the+Pequot.%0AA+series+of+battles+took+place+from+16%0Abtos+%2F%2Fvww.historvcom%2FtoRics%2Finative-american HTTP/1.1\u001b[0m\" 404 -\n",
            "127.0.0.1 - - [02/May/2021 07:47:15] \"\u001b[33mGET /Tanmay+Vyas+12%3A34+PM%0AOn+March+22%2C+1622%2C+Powhatan+Indians+attacked%0Aand+killed+colonists+in+eastern+Virginia.+Known+as%0Athe+Jamestown+Massacre%2C+the+bloodbath+gave+the%0AEnglish+government+an+excuse+to+justify+their%0Aefforts+to+attack+lndians+and+confiscate+their+land.%0AIn+1636%2C+the+Pequot+War+over+trade+expansion%0Abroke+out+between+Pequot+Indians+and+English%0Asettlers+of+Massachusetts+Bay+and+Connecticut%0AThe+colonists+Indian+allies+joined+them+in+battle%0Aand+helped+defeat+the+Pequot.%0AA+series+of+battles+took+place+from+16%0Abtos+%2F%2Fvww.historvcom%2FtoRics%2Finative-american HTTP/1.1\u001b[0m\" 404 -\n",
            "127.0.0.1 - - [02/May/2021 07:47:38] \"\u001b[33mGET /Tanmay+Vyas+12%3A34+PM%0AOn+March+22%2C+1622%2C+Powhatan+Indians+attacked%0Aand+killed+colonists+in+eastern+Virginia.+Known+as%0Athe+Jamestown+Massacre%2C+the+bloodbath+gave+the%0AEnglish+government+an+excuse+to+justify+their%0Aefforts+to+attack+lndians+and+confiscate+their+land.%0AIn+1636%2C+the+Pequot+War+over+trade+expansion%0Abroke+out+between+Pequot+Indians+and+English%0Asettlers+of+Massachusetts+Bay+and+Connecticut%0AThe+colonists+Indian+allies+joined+them+in+battle%0Aand+helped+defeat+the+Pequot.%0AA+series+of+battles+took+place+from+16%0Abtos+%2F%2Fvww.historvcom%2FtoRics%2Finative-american HTTP/1.1\u001b[0m\" 404 -\n",
            "127.0.0.1 - - [02/May/2021 07:48:32] \"\u001b[33mGET /Tanmay+Vyas12%3A34+PM%0AOn+March+22%2C+1622+Powhatan+Indians+attacked%0Aand+killed.coonists+in+eastern+Virginia.+Known+as%0Athe+Jamestown+Massacre%2C+the+bloodbath+gave+the%0AEnglish+government+an+excuse+to+justify+their%0Aefforts+to+attack+indians+and+confiscate+their+land%0AIn+1636%2C+the+Pequot+War+over+trade+expansion%0Abroke+out+between+Peqguot+indians+and+English%0Asettlers+of+Massachusetts+Bay+and+Connecticut%0AThe+colonists+ndian+alliesjoined+them+in+battle%0Aand+helped+defeat+the+Pequot.%0AA+series+of+battles+took+place+from+16%0Awww.history.com%2Ftopicsinarive-american HTTP/1.1\u001b[0m\" 404 -\n",
            "127.0.0.1 - - [02/May/2021 07:49:37] \"\u001b[33mGET /Tanmay+Vyas+12%3A34+PM%0AOn+March+22%2C+1622%2C+Powhatan+Indians+attacked%0Aand+killed+colonists+in+eastern+Virginia.+Known+as%0Athe+Jamestown+Massacre%2C+the+bloodbath+gave+the%0AEnglish+government+an+excuse+to+justify+their%0Aefforts+to+attack+Indians+and+confiscate+their+land.%0AIn+1636%2C+the+Pequot+War+over+trade+expansion%0Abroke+out+between+Pequot+Indians+and+English%0Asettlers+of+Massachusetts+Bay+and+Connecticut%0AThe+colonists%27+Indian+allies+joined+them+in+battle%0Aand+helped+defeat+the+Pequot.%0AA+series+of+battles+took+place+from+16%0Ahttps+%2F%2Fwww.history+com%2Ftopics%2Fnativeamerican%0ASend+a+message+to+everyor HTTP/1.1\u001b[0m\" 404 -\n",
            "127.0.0.1 - - [02/May/2021 07:50:08] \"\u001b[33mGET / HTTP/1.1\u001b[0m\" 404 -\n",
            "127.0.0.1 - - [02/May/2021 07:50:10] \"\u001b[37mGET /favicon.ico HTTP/1.1\u001b[0m\" 200 -\n",
            "127.0.0.1 - - [02/May/2021 07:50:27] \"\u001b[37mGET /On%20March%2022,%201622,%20Powhatan%20Indians%20attacked%20and%20killed%20colonists%20in%20eastern%20Virginia.%20Known%20as%20the%20Jamestown%20Massacre,%20the%20bloodbath%20gave%20the%20English%20government%20an%20excuse%20to%20justify%20their%20efforts%20to%20attack%20Indians%20and%20confiscate%20their%20land.%20In%201636,%20the%20Pequot%20War%20over%20trade%20expansion%20broke%20out%20between%20Pequot%20Indians%20and%20English%20settlers%20of%20Massachusetts%20Bay%20and%20Connecticut.%20The%20colonists’%20Indian%20allies%20joined%20them%20in%20battle%20and%20helped%20defeat%20the%20Pequot. HTTP/1.1\u001b[0m\" 200 -\n",
            "127.0.0.1 - - [02/May/2021 07:50:29] \"\u001b[37mGET /favicon.ico HTTP/1.1\u001b[0m\" 200 -\n",
            "127.0.0.1 - - [02/May/2021 07:53:06] \"\u001b[33mGET /Tanmay+Vyas+1234+PM%0AOn+March+22%2C+1622%2C+Powhatan+Indians+attacked%0Aand+killed+colonists+in+eastern+Virginia.+Known+as%0Athe+Jamestown+Massacre%2C+the+bloodbath+gave+the%0AEnglish+government+an+excuse+to+justify+their%0Aefforts+to+attack+Indians+and+confiscate+their+land.%0AIn+1636%2C+the+Pequot+War+over+trade+expansion%0Abroke+out+between+Pequot+Indians+and+English%0Asettler+of+Massachusetts+Bay+and+Connecticut%0AThe+colonists+Indian+allies+joined+them+in+battle%0Aand+helped+defeat+the+Pequot.%0AA+series+of+battles+took+place+from+16%0Ahttps%2Fwww.historycom%2Ftopics%2Fnative.amencan-%0Ahistory%2Famerican-ndian-wars HTTP/1.1\u001b[0m\" 404 -\n",
            "127.0.0.1 - - [02/May/2021 07:53:46] \"\u001b[33mGET / HTTP/1.1\u001b[0m\" 404 -\n",
            "127.0.0.1 - - [02/May/2021 07:53:49] \"\u001b[33mGET / HTTP/1.1\u001b[0m\" 404 -\n",
            "127.0.0.1 - - [02/May/2021 07:53:49] \"\u001b[37mGET /favicon.ico HTTP/1.1\u001b[0m\" 200 -\n"
          ],
          "name": "stderr"
        }
      ]
    },
    {
      "cell_type": "code",
      "metadata": {
        "id": "Rht8iTFumeJJ"
      },
      "source": [
        ""
      ],
      "execution_count": null,
      "outputs": []
    }
  ]
}