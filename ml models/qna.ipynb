{
  "nbformat": 4,
  "nbformat_minor": 0,
  "metadata": {
    "colab": {
      "name": "qna.ipynb",
      "provenance": [],
      "collapsed_sections": [],
      "include_colab_link": true
    },
    "kernelspec": {
      "name": "python3",
      "display_name": "Python 3"
    },
    "language_info": {
      "name": "python"
    }
  },
  "cells": [
    {
      "cell_type": "markdown",
      "metadata": {
        "id": "view-in-github",
        "colab_type": "text"
      },
      "source": [
        "<a href=\"https://colab.research.google.com/github/1407arjun/Endgame/blob/master/ml%20models/qna.ipynb\" target=\"_parent\"><img src=\"https://colab.research.google.com/assets/colab-badge.svg\" alt=\"Open In Colab\"/></a>"
      ]
    },
    {
      "cell_type": "code",
      "metadata": {
        "id": "QHOjBY6WIPNb",
        "colab": {
          "base_uri": "https://localhost:8080/"
        },
        "outputId": "bb02756c-cc3b-402d-97ee-38a319f1b890"
      },
      "source": [
        "!pip install flask-ngrok"
      ],
      "execution_count": null,
      "outputs": [
        {
          "output_type": "stream",
          "text": [
            "Collecting flask-ngrok\n",
            "  Downloading https://files.pythonhosted.org/packages/af/6c/f54cb686ad1129e27d125d182f90f52b32f284e6c8df58c1bae54fa1adbc/flask_ngrok-0.0.25-py3-none-any.whl\n",
            "Requirement already satisfied: requests in /usr/local/lib/python3.7/dist-packages (from flask-ngrok) (2.23.0)\n",
            "Requirement already satisfied: Flask>=0.8 in /usr/local/lib/python3.7/dist-packages (from flask-ngrok) (1.1.2)\n",
            "Requirement already satisfied: urllib3!=1.25.0,!=1.25.1,<1.26,>=1.21.1 in /usr/local/lib/python3.7/dist-packages (from requests->flask-ngrok) (1.24.3)\n",
            "Requirement already satisfied: idna<3,>=2.5 in /usr/local/lib/python3.7/dist-packages (from requests->flask-ngrok) (2.10)\n",
            "Requirement already satisfied: certifi>=2017.4.17 in /usr/local/lib/python3.7/dist-packages (from requests->flask-ngrok) (2020.12.5)\n",
            "Requirement already satisfied: chardet<4,>=3.0.2 in /usr/local/lib/python3.7/dist-packages (from requests->flask-ngrok) (3.0.4)\n",
            "Requirement already satisfied: itsdangerous>=0.24 in /usr/local/lib/python3.7/dist-packages (from Flask>=0.8->flask-ngrok) (1.1.0)\n",
            "Requirement already satisfied: click>=5.1 in /usr/local/lib/python3.7/dist-packages (from Flask>=0.8->flask-ngrok) (7.1.2)\n",
            "Requirement already satisfied: Jinja2>=2.10.1 in /usr/local/lib/python3.7/dist-packages (from Flask>=0.8->flask-ngrok) (2.11.3)\n",
            "Requirement already satisfied: Werkzeug>=0.15 in /usr/local/lib/python3.7/dist-packages (from Flask>=0.8->flask-ngrok) (1.0.1)\n",
            "Requirement already satisfied: MarkupSafe>=0.23 in /usr/local/lib/python3.7/dist-packages (from Jinja2>=2.10.1->Flask>=0.8->flask-ngrok) (1.1.1)\n",
            "Installing collected packages: flask-ngrok\n",
            "Successfully installed flask-ngrok-0.0.25\n"
          ],
          "name": "stdout"
        }
      ]
    },
    {
      "cell_type": "code",
      "metadata": {
        "colab": {
          "base_uri": "https://localhost:8080/"
        },
        "id": "9rhElK0OHmIh",
        "outputId": "bea9a039-ad69-49a8-99a7-92ac606ba2b2"
      },
      "source": [
        "from flask import jsonify, request, Flask\n",
        "from flask_ngrok import run_with_ngrok\n",
        "import spacy\n",
        "from spacy import displacy\n",
        "from collections import Counter\n",
        "import en_core_web_sm\n",
        "nlp = en_core_web_sm.load()\n",
        "import json\n",
        "\n",
        "app = Flask(__name__)\n",
        "run_with_ngrok(app)\n",
        "\n",
        "\n",
        "@app.route('/<string:q_id>', methods=['GET'])\n",
        "def home(q_id):\n",
        "    st = nlp(q_id)\n",
        "    b = [(X, X.ent_type_) for X in st]\n",
        "    d = []\n",
        "    for i in range(len(b) - 1):\n",
        "        c = b[i]\n",
        "        if c[1] != '':\n",
        "            d.append(c[0])\n",
        "    for i in d:\n",
        "        c = str(i)\n",
        "        q_id = q_id.replace(c, \"____\")\n",
        "    temp = [str(q_id)]\n",
        "    for i in d:\n",
        "      temp.append(str(i))\n",
        "    print(temp)\n",
        "    print(jsonify(temp))\n",
        "    return jsonify(temp)\n",
        "\n",
        "\n",
        "if __name__ == '__main__':\n",
        "    app.run()"
      ],
      "execution_count": null,
      "outputs": [
        {
          "output_type": "stream",
          "text": [
            " * Serving Flask app \"__main__\" (lazy loading)\n",
            " * Environment: production\n",
            "\u001b[31m   WARNING: This is a development server. Do not use it in a production deployment.\u001b[0m\n",
            "\u001b[2m   Use a production WSGI server instead.\u001b[0m\n",
            " * Debug mode: off\n"
          ],
          "name": "stdout"
        },
        {
          "output_type": "stream",
          "text": [
            " * Running on http://127.0.0.1:5000/ (Press CTRL+C to quit)\n"
          ],
          "name": "stderr"
        },
        {
          "output_type": "stream",
          "text": [
            " * Running on http://a9e34561bf07.ngrok.io\n",
            " * Traffic stats available on http://127.0.0.1:4040\n"
          ],
          "name": "stdout"
        },
        {
          "output_type": "stream",
          "text": [
            "127.0.0.1 - - [02/May/2021 07:25:27] \"\u001b[37mGET /Thermodynamics%0AFrom+Wikipedia%2C+the+free+encycdopedia%0AThermodynamics+is+a+branch+of+physics+that+deals+with+heat%2C+work%2C+and+temperature%2C+and+their+relation+to+energy%2C+radiation%2C+and%0Aphysical+properties+of+matter.+The+behavior+of+these+quantities+is+governed+by+the+four+laws+of+thermodynamics+which+convey+a%0Aquantitative+description+using+measurable+macroscopic+physical+quantities%2C+but+may+be+explained+in+terms+of+microscopic%0Aconstituents+by+statistical+mechanics.+Thermodynamics+applies+to+a+wide+variety+of+topics+in+science+and+engineering%2C+especially%0Aphysical+chemistrv+bioche HTTP/1.1\u001b[0m\" 200 -\n"
          ],
          "name": "stderr"
        },
        {
          "output_type": "stream",
          "text": [
            "['Thermodynamics\\nFrom+Wikipedia,+the+free+encycdopedia\\nThermodynamics+is+a+branch+of+physics+that+deals+with+heat,+work,+and+temperature,+and+their+relation+to+energy,+radiation,+and\\nphysical+properties+of+matter.+The+behavior+of+these+quantities+is+governed+by+the+four+laws+of+thermodynamics+which+convey+a\\nquantitative+description+using+measurable+macroscopic+physical+quantities,+but+may+be+explained+in+terms+of+microscopic\\nconstituents+by+statistical+mechanics.+Thermodynamics+applies+to+a+wide+variety+of+topics+in+science+and+engineering,+especially\\nphysical+chemistrv+bioche']\n",
            "<Response 592 bytes [200 OK]>\n"
          ],
          "name": "stdout"
        },
        {
          "output_type": "stream",
          "text": [
            "127.0.0.1 - - [02/May/2021 07:26:48] \"\u001b[33mGET / HTTP/1.1\u001b[0m\" 404 -\n",
            "127.0.0.1 - - [02/May/2021 07:26:48] \"\u001b[37mGET /favicon.ico HTTP/1.1\u001b[0m\" 200 -\n"
          ],
          "name": "stderr"
        },
        {
          "output_type": "stream",
          "text": [
            "['favicon.ico']\n",
            "<Response 16 bytes [200 OK]>\n"
          ],
          "name": "stdout"
        },
        {
          "output_type": "stream",
          "text": [
            "127.0.0.1 - - [02/May/2021 07:26:50] \"\u001b[33mGET / HTTP/1.1\u001b[0m\" 404 -\n",
            "127.0.0.1 - - [02/May/2021 07:27:42] \"\u001b[33mGET / HTTP/1.1\u001b[0m\" 404 -\n",
            "127.0.0.1 - - [02/May/2021 07:27:44] \"\u001b[37mGET /favicon.ico HTTP/1.1\u001b[0m\" 200 -\n"
          ],
          "name": "stderr"
        },
        {
          "output_type": "stream",
          "text": [
            "['favicon.ico']\n",
            "<Response 16 bytes [200 OK]>\n"
          ],
          "name": "stdout"
        },
        {
          "output_type": "stream",
          "text": [
            "127.0.0.1 - - [02/May/2021 07:28:19] \"\u001b[37mGET /Aman%20is%20a%20GOD HTTP/1.1\u001b[0m\" 200 -\n"
          ],
          "name": "stderr"
        },
        {
          "output_type": "stream",
          "text": [
            "['____ is a GOD', 'Aman']\n",
            "<Response 25 bytes [200 OK]>\n"
          ],
          "name": "stdout"
        },
        {
          "output_type": "stream",
          "text": [
            "127.0.0.1 - - [02/May/2021 07:28:20] \"\u001b[37mGET /favicon.ico HTTP/1.1\u001b[0m\" 200 -\n"
          ],
          "name": "stderr"
        },
        {
          "output_type": "stream",
          "text": [
            "['favicon.ico']\n",
            "<Response 16 bytes [200 OK]>\n"
          ],
          "name": "stdout"
        },
        {
          "output_type": "stream",
          "text": [
            "127.0.0.1 - - [02/May/2021 07:28:21] \"\u001b[37mGET /Aman%20is%20a%20GOD HTTP/1.1\u001b[0m\" 200 -\n"
          ],
          "name": "stderr"
        },
        {
          "output_type": "stream",
          "text": [
            "['____ is a GOD', 'Aman']\n",
            "<Response 25 bytes [200 OK]>\n"
          ],
          "name": "stdout"
        },
        {
          "output_type": "stream",
          "text": [
            "127.0.0.1 - - [02/May/2021 08:05:05] \"\u001b[33mGET /Tanmay+Vyas+1234+PM%0AOn+March+22%2C+1622%2C+Powhatan+Indians+attacked%0Aand+killed+colonists+in+eastern+Virginia.+Known+as%0Athe+Jamestown+Massacre%2C+the+bloodbath+gave+the%0AEnglish+government+an+excuse+to+justify+their%0Aefforts+to+attack+Indians+and+confiscate+their+land.%0AIn+1636%2C+the+Pequot+War+over+trade+expansion%0Abroke+out+between+Pequot+Indians+and+English%0Asettler+of+Massachusetts+Bay+and+Connecticut%0AThe+colonists+Indian+allies+joined+them+in+battle%0Aand+helped+defeat+the+Pequot.%0AA+series+of+battles+took+place+from+16%0Ahttps%2Fwww.historycom%2Ftopics%2Fnative.amencan-%0Ahistory%2Famerican-ndian-wars HTTP/1.1\u001b[0m\" 404 -\n",
            "127.0.0.1 - - [02/May/2021 08:05:20] \"\u001b[33mGET /Tanmay+Vyas+1234+PM%0AOn+March+22%2C+1622%2C+Powhatan+Indians+attacked%0Aand+killed+colonists+in+eastern+Virginia.+Known+as%0Athe+Jamestown+Massacre%2C+the+bloodbath+gave+the%0AEnglish+government+an+excuse+to+justify+their%0Aefforts+to+attack+Indians+and+confiscate+their+land.%0AIn+1636%2C+the+Pequot+War+over+trade+expansion%0Abroke+out+between+Pequot+Indians+and+English%0Asettler+of+Massachusetts+Bay+and+Connecticut%0AThe+colonists+Indian+allies+joined+them+in+battle%0Aand+helped+defeat+the+Pequot.%0AA+series+of+battles+took+place+from+16%0Ahttps%2Fwww.historycom%2Ftopics%2Fnative.amencan-%0Ahistory%2Famerican-ndian-wars HTTP/1.1\u001b[0m\" 404 -\n",
            "127.0.0.1 - - [02/May/2021 08:13:13] \"\u001b[37mGET /From+Wikipedia%2C+the+free+encyclopedia%0AThermodynamics+is+a+branch+of+physics+that+deals+with+heat%2C+work%2C+and+temperature%2C+and+their+relation+to+energy%2C+radiation%2C+and%0Aphysical+properties+of+matter.+The+behavior+of+these+quantities+is+governed+by+the+four+laws+of+thermodynamics+which+convey+a%0Aquantitative+description+using+measurable+macroscopic+physical+quantities%2C+but+may+be+explained+in+terms+of+microscopic%0Aconstituents+by+statistical+mechanics.+Thermodynamics+applies+to+a+wide+variety+of+topics+in+science+and+engineering%2C+especially%0Aphysical+chemistry%2C+biochemistry%2C+chemical+engineering+and+mechanical+engineering.+but+also+in+other+complex+fields+such+as%0Ameteorology.%0AHistoricalv+themodvnamics+develoned+out+ofadesire+to+increase+ihe+e%0Aaru+s HTTP/1.1\u001b[0m\" 200 -\n"
          ],
          "name": "stderr"
        },
        {
          "output_type": "stream",
          "text": [
            "['From+Wikipedia,+the+free+encyclopedia\\nThermodynamics+is+a+branch+of+physics+that+deals+with+heat,+work,+and+temperature,+and+their+relation+to+energy,+radiation,+and\\nphysical+properties+of+matter.+The+behavior+of+these+quantities+is+governed+by+the+four+laws+of+thermodynamics+which+convey+a\\nquantitative+description+using+measurable+macroscopic+physical+quantities,+but+may+be+explained+in+terms+of+microscopic\\nconstituents+by+statistical+mechanics.+Thermodynamics+applies+to+a+wide+variety+of+topics+in+science+and+engineering,+especially\\nphysical+chemistry,+biochemistry,+chemical+engineering+and+mechanical+engineering.+but+also+in+other+complex+fields+such+as\\nmeteorology.\\nHistoricalv+themodvnamics+develoned+out+ofadesire+to+increase+ihe+e\\naru+s']\n",
            "<Response 764 bytes [200 OK]>\n"
          ],
          "name": "stdout"
        },
        {
          "output_type": "stream",
          "text": [
            "127.0.0.1 - - [02/May/2021 08:16:13] \"\u001b[37mGET /From+Wikipedia%2C+the+free+encyclopedia%0AThermodynamics+is+a+branch+of+physics+that+deals+with+heat%2C+work%2C+and+temperature%2C+and+their+relation+to+energy%2C+radiation%2C+and%0Aphysical+properties+of+matter.+The+behavior+of+these+quantities+is+governed+by+the+four+laws+of+thermodynamics+which+convey+a%0Aquantitative+description+using+measurable+macroscopic+physical+quantities%2C+but+may+be+explained+in+terms+of+microscopic%0Aconstituents+by+statistical+mechanics.+Thermodynamics+applies+to+a+wide+variety+of+topics+in+science+and+engineering%2C+especially%0Aphysical+chemistry%2C+biochemistry%2C+chemical+engineering+and+mechanical+engineering.+but+also+in+other+complex+fields+such+as%0Ameteorology.%0AHistoricalv+themodvnamics+develoned+out+ofadesire+to+increase+ihe+e%0Aaru+s HTTP/1.1\u001b[0m\" 200 -\n"
          ],
          "name": "stderr"
        },
        {
          "output_type": "stream",
          "text": [
            "['From+Wikipedia,+the+free+encyclopedia\\nThermodynamics+is+a+branch+of+physics+that+deals+with+heat,+work,+and+temperature,+and+their+relation+to+energy,+radiation,+and\\nphysical+properties+of+matter.+The+behavior+of+these+quantities+is+governed+by+the+four+laws+of+thermodynamics+which+convey+a\\nquantitative+description+using+measurable+macroscopic+physical+quantities,+but+may+be+explained+in+terms+of+microscopic\\nconstituents+by+statistical+mechanics.+Thermodynamics+applies+to+a+wide+variety+of+topics+in+science+and+engineering,+especially\\nphysical+chemistry,+biochemistry,+chemical+engineering+and+mechanical+engineering.+but+also+in+other+complex+fields+such+as\\nmeteorology.\\nHistoricalv+themodvnamics+develoned+out+ofadesire+to+increase+ihe+e\\naru+s']\n",
            "<Response 764 bytes [200 OK]>\n"
          ],
          "name": "stdout"
        },
        {
          "output_type": "stream",
          "text": [
            "127.0.0.1 - - [02/May/2021 08:17:34] \"\u001b[37mGET /my%20name%20is%20yash%20jasani.%20my%20sister's%20name%20is%20nysha. HTTP/1.1\u001b[0m\" 200 -\n"
          ],
          "name": "stderr"
        },
        {
          "output_type": "stream",
          "text": [
            "[\"my name is ____ ____. my sister's name is ____.\", 'yash', 'jasani', 'nysha']\n",
            "<Response 76 bytes [200 OK]>\n"
          ],
          "name": "stdout"
        },
        {
          "output_type": "stream",
          "text": [
            "127.0.0.1 - - [02/May/2021 08:49:02] \"\u001b[37mGET /ugly+duckling%0AMeaning%0AAnything+that+starts+out+looking+ugly+but+turns%0Aout+to+be+beautiful%0AUsage%0AAshley+was+a+shabby+child+and+was+reterred+to%0Aas+an+ugly+duckling.+However%2C+he+is+all+grown%0Aup+now+and+looks+so+handsome.%0AOrigin%0AHeard+the+story+of+the+ugly+duckling%3F+There%0Awas+an+ugly+duckling+that+was+very+sad%0Abecause+its+friends+would+not+play+with+it.%0AOne+day%2C+it+looked+into+the+water+and+found%0Athat+it+had+grown+into+a+beautiful+swan.+This%0Atells+us+that+we+shouldn%27t+%7Cudge+anything+too%0Asoon.+We+should+wait+and+watch+and+it+might%0Agrow+into+something+very+beautiful%21 HTTP/1.1\u001b[0m\" 200 -\n"
          ],
          "name": "stderr"
        },
        {
          "output_type": "stream",
          "text": [
            "[\"ugly+duckling\\nMeaning\\nAnything+that+starts+out+looking+ugly+but+turns\\nout+to+be+beautiful\\nUsage\\nAshley+was+a+shabby+child+and+was+reterred+to\\nas+an+ugly+duckling.+However,+he+is+all+grown\\nup+now+and+looks+so+handsome.\\nOrigin\\nHeard+the+story+of+the+ugly+duckling?+There\\nwas+an+ugly+duckling+that+was+very+sad\\nbecause+its+friends+would+not+play+with+it.\\nOne+day,+it+looked+into+the+water+and+found\\nthat+it+had+grown+into+a+beautiful+swan.+This\\ntells+us+that+we+shouldn't+|udge+anything+too\\nsoon.+We+should+wait+and+watch+and+it+might\\ngrow+into+something+very+beautiful!\"]\n",
            "<Response 588 bytes [200 OK]>\n"
          ],
          "name": "stdout"
        },
        {
          "output_type": "stream",
          "text": [
            "127.0.0.1 - - [02/May/2021 08:56:11] \"\u001b[33mGET / HTTP/1.1\u001b[0m\" 404 -\n",
            "127.0.0.1 - - [02/May/2021 08:56:12] \"\u001b[37mGET /favicon.ico HTTP/1.1\u001b[0m\" 200 -\n"
          ],
          "name": "stderr"
        },
        {
          "output_type": "stream",
          "text": [
            "['favicon.ico']\n",
            "<Response 16 bytes [200 OK]>\n"
          ],
          "name": "stdout"
        },
        {
          "output_type": "stream",
          "text": [
            "127.0.0.1 - - [02/May/2021 08:56:21] \"\u001b[37mGET /AMAN%20IS%20A%20GOD HTTP/1.1\u001b[0m\" 200 -\n"
          ],
          "name": "stderr"
        },
        {
          "output_type": "stream",
          "text": [
            "['____ IS A GOD', 'AMAN']\n",
            "<Response 25 bytes [200 OK]>\n"
          ],
          "name": "stdout"
        },
        {
          "output_type": "stream",
          "text": [
            "127.0.0.1 - - [02/May/2021 08:56:21] \"\u001b[37mGET /favicon.ico HTTP/1.1\u001b[0m\" 200 -\n"
          ],
          "name": "stderr"
        },
        {
          "output_type": "stream",
          "text": [
            "['favicon.ico']\n",
            "<Response 16 bytes [200 OK]>\n"
          ],
          "name": "stdout"
        }
      ]
    },
    {
      "cell_type": "code",
      "metadata": {
        "id": "ubszQ0wXIKEl"
      },
      "source": [
        ""
      ],
      "execution_count": null,
      "outputs": []
    }
  ]
}